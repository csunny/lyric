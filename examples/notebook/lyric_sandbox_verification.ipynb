{
 "cells": [
  {
   "cell_type": "markdown",
   "metadata": {},
   "source": [
    "# Lyric Sandbox verification\n",
    "\n",
    "This notebook will be showing the capabilities of the Lyric Sandbox environment. \n",
    "It will run Python code and JavaScript code in the sandbox environment which is isolated from the host environment.\n",
    "\n",
    "If you not familiar with the lyric, please read this notebook first: [Quick Start](lyric_quick_start.ipynb)"
   ]
  },
  {
   "cell_type": "markdown",
   "metadata": {},
   "source": [
    "## 1. File System Isolation\n",
    "\n",
    "The sandbox environment runs in webassembly environment, we can control the file system access of the sandbox environment.\n",
    "\n",
    "It can't access any file in the host environment by default.\n",
    "\n",
    "Let's try to access a file in the host environment."
   ]
  },
  {
   "cell_type": "code",
   "execution_count": 1,
   "metadata": {},
   "outputs": [],
   "source": [
    "# First start lyric driver\n",
    "\n",
    "from lyric import DefaultLyricDriver\n",
    "\n",
    "lcd = DefaultLyricDriver(host=\"127.0.0.1\", log_level=\"ERROR\")\n",
    "lcd.start()\n",
    "\n",
    "# Load workers(default: Python, JavaScript)\n",
    "await lcd.lyric.load_default_workers()"
   ]
  },
  {
   "cell_type": "code",
   "execution_count": 2,
   "metadata": {},
   "outputs": [
    {
     "name": "stdout",
     "output_type": "stream",
     "text": [
      "[\"local_d112c954598914a1@343f4169-9f13-4856-aee3-0c30f6af6551\"]: \"[Python-InterpreterTask] script: InterpreterRequest(protocol=1, lang='PYTHON', code='\\\\nimport os\\\\n\\\\n# List the files in the root directory\\\\nroot = os.listdir(\\\\'/\\\\')\\\\nprint(\\\"Files in the root directory:\\\", root)\\\\n')\"\n",
      "[\"local_d112c954598914a1@343f4169-9f13-4856-aee3-0c30f6af6551\"]: \"[Python-InterpreterTask] Exception: [Errno 44] No such file or directory: '/'\"\n",
      "[\"local_d112c954598914a1@343f4169-9f13-4856-aee3-0c30f6af6551\"]: \"[Python-InterpreterTask] test_result: b'{\\\"content\\\":\\\"Execute script successfully\\\",\\\"exit_code\\\":1,\\\"lang\\\":\\\"Python\\\",\\\"protocol\\\":1,\\\"stderr\\\":\\\"\\\",\\\"stdout\\\":\\\"[Python-InterpreterTask] Exception: [Errno 44] No such file or directory: \\\\'/\\\\'\\\\\\\\n\\\",\\\"success\\\":false}'\"\n",
      "CodeResult(exit_code=1, stdout=\"[Python-InterpreterTask] Exception: [Errno 44] No such file or directory: '/'\\n\", stderr='', output=None)\n",
      "logs:\n",
      "[Python-InterpreterTask] Exception: [Errno 44] No such file or directory: '/'\n",
      "\n"
     ]
    }
   ],
   "source": [
    "# List the files in the root directory\n",
    "\n",
    "python_code = \"\"\"\n",
    "import os\n",
    "\n",
    "# List the files in the root directory\n",
    "root = os.listdir('/')\n",
    "print(\"Files in the root directory:\", root)\n",
    "\"\"\"\n",
    "\n",
    "py_res = await lcd.exec(python_code, \"python\")\n",
    "assert py_res.exit_code !=0, \"Python code should fail\"\n",
    "\n",
    "print(py_res)\n",
    "print(f\"logs:\\n{py_res.logs}\")"
   ]
  },
  {
   "cell_type": "markdown",
   "metadata": {},
   "source": [
    "As you can see, the exit code is 1, and the output is \n",
    "```\n",
    "[Python-InterpreterTask] Exception: [Errno 44] No such file or directory: '/'\n",
    "```"
   ]
  },
  {
   "cell_type": "code",
   "execution_count": 3,
   "metadata": {},
   "outputs": [
    {
     "name": "stdout",
     "output_type": "stream",
     "text": [
      "[\"local_d112c954598914a1@343f4169-9f13-4856-aee3-0c30f6af6551\"]: \"[Python-InterpreterTask] script: InterpreterRequest(protocol=1, lang='PYTHON', code=\\\"\\\\nimport os\\\\n\\\\n# Create a directory\\\\nos.mkdir('/test')\\\\n\\\")\"\n",
      "[\"local_d112c954598914a1@343f4169-9f13-4856-aee3-0c30f6af6551\"]: \"[Python-InterpreterTask] Exception: [Errno 44] No such file or directory: '/test'\"\n",
      "[\"local_d112c954598914a1@343f4169-9f13-4856-aee3-0c30f6af6551\"]: \"[Python-InterpreterTask] test_result: b'{\\\"content\\\":\\\"Execute script successfully\\\",\\\"exit_code\\\":1,\\\"lang\\\":\\\"Python\\\",\\\"protocol\\\":1,\\\"stderr\\\":\\\"\\\",\\\"stdout\\\":\\\"[Python-InterpreterTask] Exception: [Errno 44] No such file or directory: \\\\'/test\\\\'\\\\\\\\n\\\",\\\"success\\\":false}'\"\n",
      "CodeResult(exit_code=1, stdout=\"[Python-InterpreterTask] Exception: [Errno 44] No such file or directory: '/test'\\n\", stderr='', output=None)\n",
      "logs:\n",
      "[Python-InterpreterTask] Exception: [Errno 44] No such file or directory: '/test'\n",
      "\n"
     ]
    }
   ],
   "source": [
    "# Create directory\n",
    "\n",
    "python_code = \"\"\"\n",
    "import os\n",
    "\n",
    "# Create a directory\n",
    "os.mkdir('/test')\n",
    "\"\"\"\n",
    "\n",
    "py_res = await lcd.exec(python_code, \"python\")\n",
    "assert py_res.exit_code !=0, \"Python code should fail\"\n",
    "print(py_res)\n",
    "print(f\"logs:\\n{py_res.logs}\")"
   ]
  },
  {
   "cell_type": "markdown",
   "metadata": {},
   "source": [
    "## 2. Network Isolation\n",
    "\n",
    "The sandbox environment can't access the network by default because the network is disabled in the sandbox environment.\n",
    "\n",
    "Let's try to create a socket to access the network."
   ]
  },
  {
   "cell_type": "code",
   "execution_count": 4,
   "metadata": {},
   "outputs": [
    {
     "name": "stdout",
     "output_type": "stream",
     "text": [
      "[\"local_d112c954598914a1@343f4169-9f13-4856-aee3-0c30f6af6551\"]: \"[Python-InterpreterTask] script: InterpreterRequest(protocol=1, lang='PYTHON', code='\\\\nimport socket\\\\n\\\\ndef start_client():\\\\n    # Create TCP/IP socket\\\\n    client_socket = socket.socket(socket.AF_INET, socket.SOCK_STREAM)\\\\n    \\\\n    # Connect the socket to the server\\\\n    server_address = (\\\\'127.0.0.1\\\\', 12345)\\\\n    print(f\\\"Connecting to {server_address}\\\")\\\\n    client_socket.connect(server_address)\\\\n    \\\\n    try:\\\\n        # Send data\\\\n        message = \\\"Hello, Server!\\\"\\\\n        print(f\\\"Sending: {message}\\\")\\\\n        client_socket.sendall(message.encode())\\\\n        \\\\n        # Receive data\\\\n        data = client_socket.recv(1024).decode()\\\\n        print(f\\\"Received: {data}\\\")\\\\n        \\\\n    finally:\\\\n        # Close the connection\\\\n        print(\\\"Closing connection\\\")\\\\n        client_socket.close()\\\\nstart_client()\\\\n')\"\n",
      "[\"local_d112c954598914a1@343f4169-9f13-4856-aee3-0c30f6af6551\"]: \"Connecting to ('127.0.0.1', 12345)\"\n",
      "[\"local_d112c954598914a1@343f4169-9f13-4856-aee3-0c30f6af6551\"]: \"[Python-InterpreterTask] Exception: [Errno 2] Permission denied\"\n",
      "[\"local_d112c954598914a1@343f4169-9f13-4856-aee3-0c30f6af6551\"]: \"[Python-InterpreterTask] test_result: b'{\\\"content\\\":\\\"Execute script successfully\\\",\\\"exit_code\\\":1,\\\"lang\\\":\\\"Python\\\",\\\"protocol\\\":1,\\\"stderr\\\":\\\"\\\",\\\"stdout\\\":\\\"Connecting to (\\\\'127.0.0.1\\\\', 12345)\\\\\\\\n[Python-InterpreterTask] Exception: [Errno 2] Permission denied\\\\\\\\n\\\",\\\"success\\\":false}'\"\n",
      "CodeResult(exit_code=1, stdout=\"Connecting to ('127.0.0.1', 12345)\\n[Python-InterpreterTask] Exception: [Errno 2] Permission denied\\n\", stderr='', output=None)\n"
     ]
    }
   ],
   "source": [
    "# Create a socket to connect to a server\n",
    "\n",
    "py_client_code = \"\"\"\n",
    "import socket\n",
    "\n",
    "def start_client():\n",
    "    # Create TCP/IP socket\n",
    "    client_socket = socket.socket(socket.AF_INET, socket.SOCK_STREAM)\n",
    "    \n",
    "    # Connect the socket to the server\n",
    "    server_address = ('127.0.0.1', 12345)\n",
    "    print(f\"Connecting to {server_address}\")\n",
    "    client_socket.connect(server_address)\n",
    "    \n",
    "    try:\n",
    "        # Send data\n",
    "        message = \"Hello, Server!\"\n",
    "        print(f\"Sending: {message}\")\n",
    "        client_socket.sendall(message.encode())\n",
    "        \n",
    "        # Receive data\n",
    "        data = client_socket.recv(1024).decode()\n",
    "        print(f\"Received: {data}\")\n",
    "        \n",
    "    finally:\n",
    "        # Close the connection\n",
    "        print(\"Closing connection\")\n",
    "        client_socket.close()\n",
    "start_client()\n",
    "\"\"\"\n",
    "\n",
    "py_res = await lcd.exec(py_client_code, \"python\")\n",
    "assert py_res.exit_code !=0, \"Python code should fail\"\n",
    "print(py_res)"
   ]
  },
  {
   "cell_type": "markdown",
   "metadata": {},
   "source": [
    "As you can see, the exit code is 1, and the output is \n",
    "```python\n",
    "CodeResult(exit_code=1, stdout=\"Connecting to ('127.0.0.1', 12345)\\n[Python-InterpreterTask] Exception: [Errno 2] Permission denied\\n\", stderr='', output=None)\n",
    "```"
   ]
  },
  {
   "cell_type": "code",
   "execution_count": 8,
   "metadata": {},
   "outputs": [
    {
     "name": "stdout",
     "output_type": "stream",
     "text": [
      "[\"local_d112c954598914a1@343f4169-9f13-4856-aee3-0c30f6af6551\"]: \"[Python-InterpreterTask] script: InterpreterRequest(protocol=1, lang='PYTHON', code='\\\\nimport socket\\\\n\\\\ndef start_server():\\\\n    # Create TCP/IP socket\\\\n    server_socket = socket.socket(socket.AF_INET, socket.SOCK_STREAM)\\\\n    \\\\n    # Bind the address and port\\\\n    server_address = (\\\\'127.0.0.1\\\\', 12345)\\\\n    server_socket.bind(server_address)\\\\n    \\\\n    # Begin listening, maximum queue connection is 1\\\\n    server_socket.listen(1)\\\\n    print(f\\\"Server listening on {server_address}\\\")\\\\n    \\\\n    while True:\\\\n        # Wait for connection\\\\n        print(\\\"Waiting for connection...\\\")\\\\n        client_socket, client_address = server_socket.accept()\\\\n        try:\\\\n            print(f\\\"Connected to {client_address}\\\")\\\\n            \\\\n            # Receive data\\\\n            data = client_socket.recv(1024).decode()\\\\n            print(f\\\"Received: {data}\\\")\\\\n            \\\\n            # Send response\\\\n            response = f\\\"Server received: {data}\\\"\\\\n            client_socket.sendall(response.encode())\\\\n            \\\\n        finally:\\\\n            # Close the connection\\\\n            client_socket.close()\\\\nstart_server()\\\\n')\"\n",
      "[\"local_d112c954598914a1@343f4169-9f13-4856-aee3-0c30f6af6551\"]: \"[Python-InterpreterTask] Exception: [Errno 2] Permission denied\"\n",
      "[\"local_d112c954598914a1@343f4169-9f13-4856-aee3-0c30f6af6551\"]: \"[Python-InterpreterTask] test_result: b'{\\\"content\\\":\\\"Execute script successfully\\\",\\\"exit_code\\\":1,\\\"lang\\\":\\\"Python\\\",\\\"protocol\\\":1,\\\"stderr\\\":\\\"\\\",\\\"stdout\\\":\\\"[Python-InterpreterTask] Exception: [Errno 2] Permission denied\\\\\\\\n\\\",\\\"success\\\":false}'\"\n",
      "CodeResult(exit_code=1, stdout='[Python-InterpreterTask] Exception: [Errno 2] Permission denied\\n', stderr='', output=None)\n"
     ]
    }
   ],
   "source": [
    "# Create a server to accept connections\n",
    "\n",
    "py_server_code = \"\"\"\n",
    "import socket\n",
    "\n",
    "def start_server():\n",
    "    # Create TCP/IP socket\n",
    "    server_socket = socket.socket(socket.AF_INET, socket.SOCK_STREAM)\n",
    "    \n",
    "    # Bind the address and port\n",
    "    server_address = ('127.0.0.1', 12345)\n",
    "    server_socket.bind(server_address)\n",
    "    \n",
    "    # Begin listening, maximum queue connection is 1\n",
    "    server_socket.listen(1)\n",
    "    print(f\"Server listening on {server_address}\")\n",
    "    \n",
    "    while True:\n",
    "        # Wait for connection\n",
    "        print(\"Waiting for connection...\")\n",
    "        client_socket, client_address = server_socket.accept()\n",
    "        try:\n",
    "            print(f\"Connected to {client_address}\")\n",
    "            \n",
    "            # Receive data\n",
    "            data = client_socket.recv(1024).decode()\n",
    "            print(f\"Received: {data}\")\n",
    "            \n",
    "            # Send response\n",
    "            response = f\"Server received: {data}\"\n",
    "            client_socket.sendall(response.encode())\n",
    "            \n",
    "        finally:\n",
    "            # Close the connection\n",
    "            client_socket.close()\n",
    "start_server()\n",
    "\"\"\"\n",
    "\n",
    "py_res = await lcd.exec(py_server_code, \"python\")\n",
    "assert py_res.exit_code !=0, \"Python code should fail\"\n",
    "print(py_res)"
   ]
  },
  {
   "cell_type": "markdown",
   "metadata": {},
   "source": [
    "## 3. Process And Memory Isolation"
   ]
  },
  {
   "cell_type": "code",
   "execution_count": 5,
   "metadata": {},
   "outputs": [
    {
     "name": "stdout",
     "output_type": "stream",
     "text": [
      "[\"local_d112c954598914a1@343f4169-9f13-4856-aee3-0c30f6af6551\"]: \"[Python-InterpreterTask] script: InterpreterRequest(protocol=1, lang='PYTHON', code=\\\"\\\\nimport multiprocessing\\\\nimport ctypes\\\\n\\\\n# Try to spawn a process\\\\ndef spawn_process():\\\\n    print('Spawned!')\\\\np = multiprocessing.Process(target=spawn_process)\\\\np.start()\\\\n\\\\n# Try to access memory directly\\\\nlibc = ctypes.CDLL('libc.so.6')\\\\n\\\")\"\n",
      "[\"local_d112c954598914a1@343f4169-9f13-4856-aee3-0c30f6af6551\"]: \"[Python-InterpreterTask] Exception: No module named 'ctypes'\"\n",
      "[\"local_d112c954598914a1@343f4169-9f13-4856-aee3-0c30f6af6551\"]: \"[Python-InterpreterTask] test_result: b'{\\\"content\\\":\\\"Execute script successfully\\\",\\\"exit_code\\\":1,\\\"lang\\\":\\\"Python\\\",\\\"protocol\\\":1,\\\"stderr\\\":\\\"\\\",\\\"stdout\\\":\\\"[Python-InterpreterTask] Exception: No module named \\\\'ctypes\\\\'\\\\\\\\n\\\",\\\"success\\\":false}'\"\n",
      "CodeResult(exit_code=1, stdout=\"[Python-InterpreterTask] Exception: No module named 'ctypes'\\n\", stderr='', output=None)\n"
     ]
    }
   ],
   "source": [
    "py_code = \"\"\"\n",
    "import multiprocessing\n",
    "import ctypes\n",
    "\n",
    "# Try to spawn a process\n",
    "def spawn_process():\n",
    "    print('Spawned!')\n",
    "p = multiprocessing.Process(target=spawn_process)\n",
    "p.start()\n",
    "\n",
    "# Try to access memory directly\n",
    "libc = ctypes.CDLL('libc.so.6')\n",
    "\"\"\"\n",
    "\n",
    "py_res = await lcd.exec(py_code, \"python\")\n",
    "assert py_res.exit_code !=0, \"Python code should fail\"\n",
    "print(py_res)"
   ]
  },
  {
   "cell_type": "markdown",
   "metadata": {},
   "source": [
    "## 4. Time And Scheduler Attack Verification"
   ]
  },
  {
   "cell_type": "code",
   "execution_count": 9,
   "metadata": {},
   "outputs": [
    {
     "name": "stdout",
     "output_type": "stream",
     "text": [
      "[\"local_d112c954598914a1@343f4169-9f13-4856-aee3-0c30f6af6551\"]: \"[Python-InterpreterTask] script: InterpreterRequest(protocol=1, lang='PYTHON', code='\\\\nimport threading\\\\nimport time\\\\n\\\\ndef delayed_attack():\\\\n    time.sleep(10)  \\\\n    __import__(\\\\'os\\\\').system(\\\\'echo \\\"Delayed attack!\\\"\\\\')\\\\n\\\\nthread = threading.Thread(target=delayed_attack)\\\\nthread.start()\\\\n')\"\n",
      "[\"local_d112c954598914a1@343f4169-9f13-4856-aee3-0c30f6af6551\"]: \"[Python-InterpreterTask] Exception: can't start new thread\"\n",
      "[\"local_d112c954598914a1@343f4169-9f13-4856-aee3-0c30f6af6551\"]: \"[Python-InterpreterTask] test_result: b'{\\\"content\\\":\\\"Execute script successfully\\\",\\\"exit_code\\\":1,\\\"lang\\\":\\\"Python\\\",\\\"protocol\\\":1,\\\"stderr\\\":\\\"\\\",\\\"stdout\\\":\\\"[Python-InterpreterTask] Exception: can\\\\'t start new thread\\\\\\\\n\\\",\\\"success\\\":false}'\"\n",
      "CodeResult(exit_code=1, stdout=\"[Python-InterpreterTask] Exception: can't start new thread\\n\", stderr='', output=None)\n"
     ]
    }
   ],
   "source": [
    "py_code = \"\"\"\n",
    "import threading\n",
    "import time\n",
    "\n",
    "def delayed_attack():\n",
    "    time.sleep(10)  \n",
    "    __import__('os').system('echo \"Delayed attack!\"')\n",
    "\n",
    "thread = threading.Thread(target=delayed_attack)\n",
    "thread.start()\n",
    "\"\"\"\n",
    "\n",
    "py_res = await lcd.exec(py_code, \"python\")\n",
    "assert py_res.exit_code !=0, \"Python code should fail\"\n",
    "print(py_res)"
   ]
  }
 ],
 "metadata": {
  "kernelspec": {
   "display_name": ".venv",
   "language": "python",
   "name": "python3"
  },
  "language_info": {
   "codemirror_mode": {
    "name": "ipython",
    "version": 3
   },
   "file_extension": ".py",
   "mimetype": "text/x-python",
   "name": "python",
   "nbconvert_exporter": "python",
   "pygments_lexer": "ipython3",
   "version": "3.10.11"
  }
 },
 "nbformat": 4,
 "nbformat_minor": 2
}
